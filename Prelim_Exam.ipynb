{
  "nbformat": 4,
  "nbformat_minor": 0,
  "metadata": {
    "colab": {
      "provenance": [],
      "authorship_tag": "ABX9TyOm9Xvftro9mCrzCDaEEkC6",
      "include_colab_link": true
    },
    "kernelspec": {
      "name": "python3",
      "display_name": "Python 3"
    },
    "language_info": {
      "name": "python"
    }
  },
  "cells": [
    {
      "cell_type": "markdown",
      "metadata": {
        "id": "view-in-github",
        "colab_type": "text"
      },
      "source": [
        "<a href=\"https://colab.research.google.com/github/JoseEclavia/DSA-58011/blob/main/Prelim_Exam.ipynb\" target=\"_parent\"><img src=\"https://colab.research.google.com/assets/colab-badge.svg\" alt=\"Open In Colab\"/></a>"
      ]
    },
    {
      "cell_type": "markdown",
      "source": [
        "Create a python program that appends all composite integers less than 10 but greater than 1 and counts the number of composite ( array or linked list )\n"
      ],
      "metadata": {
        "id": "Ski99763f8Vf"
      }
    },
    {
      "cell_type": "code",
      "source": [
        "CompInt = [4,6,8,9]\n",
        "print(\"Composite Integers less than 10 but greater than 1 :\",CompInt)\n",
        "print(\"Number of Composite Integers :\",len(CompInt))"
      ],
      "metadata": {
        "colab": {
          "base_uri": "https://localhost:8080/"
        },
        "id": "9KGfY12dgWeE",
        "outputId": "7d44b10d-1a6b-49c4-9bea-74fe28d65715"
      },
      "execution_count": 1,
      "outputs": [
        {
          "output_type": "stream",
          "name": "stdout",
          "text": [
            "Composite Integers less than 10 but greater than 1 : [4, 6, 8, 9]\n",
            "Number of Composite Integers : 4\n"
          ]
        }
      ]
    }
  ]
}