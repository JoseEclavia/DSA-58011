{
  "nbformat": 4,
  "nbformat_minor": 0,
  "metadata": {
    "colab": {
      "provenance": [],
      "authorship_tag": "ABX9TyPXq0PaBmd8k3W7IYR4VgWF",
      "include_colab_link": true
    },
    "kernelspec": {
      "name": "python3",
      "display_name": "Python 3"
    },
    "language_info": {
      "name": "python"
    }
  },
  "cells": [
    {
      "cell_type": "markdown",
      "metadata": {
        "id": "view-in-github",
        "colab_type": "text"
      },
      "source": [
        "<a href=\"https://colab.research.google.com/github/JoseEclavia/DSA-58011/blob/main/ECLAVIA_Graphs.ipynb\" target=\"_parent\"><img src=\"https://colab.research.google.com/assets/colab-badge.svg\" alt=\"Open In Colab\"/></a>"
      ]
    },
    {
      "cell_type": "code",
      "execution_count": null,
      "metadata": {
        "id": "eYz0Ql1Obs_y"
      },
      "outputs": [],
      "source": [
        "Data elements using dictionaries to implement graph"
      ]
    },
    {
      "cell_type": "code",
      "source": [
        "graph = {\n",
        "    'a':['b','c'],\n",
        "    'b':['a','d'],\n",
        "    'c':['a','d'],\n",
        "    'd':['b','c','e'],\n",
        "    'e':['e']\n",
        "}\n",
        "print(graph)"
      ],
      "metadata": {
        "colab": {
          "base_uri": "https://localhost:8080/"
        },
        "id": "DM9DdWO8bz3N",
        "outputId": "c57a8e6c-56f7-44d4-8548-62b3e6812101"
      },
      "execution_count": null,
      "outputs": [
        {
          "output_type": "stream",
          "name": "stdout",
          "text": [
            "{'a': ['b', 'c'], 'b': ['a', 'd'], 'c': ['a', 'd'], 'd': ['b', 'c', 'e'], 'e': ['e']}\n"
          ]
        }
      ]
    },
    {
      "cell_type": "markdown",
      "source": [
        "Apllication #1 G(20)"
      ],
      "metadata": {
        "id": "ZtbNAstCihVh"
      }
    },
    {
      "cell_type": "code",
      "source": [
        "g21 = {\n",
        "    '1':['4','5','6'],\n",
        "    '4':['2','5'],\n",
        "    '5':['1'],\n",
        "    '3':['1'],\n",
        "    '4':['1'],\n",
        "    '2':['4','2'],\n",
        "\n",
        "}\n",
        "print(g21)"
      ],
      "metadata": {
        "colab": {
          "base_uri": "https://localhost:8080/"
        },
        "id": "sMdoLuQ7iupp",
        "outputId": "bf4feff1-ad2a-4ecb-9a70-2ef2d741d06c"
      },
      "execution_count": 3,
      "outputs": [
        {
          "output_type": "stream",
          "name": "stdout",
          "text": [
            "{'1': ['4', '5', '6'], '4': ['1'], '5': ['1'], '3': ['1'], '2': ['4', '2']}\n"
          ]
        }
      ]
    }
  ]
}