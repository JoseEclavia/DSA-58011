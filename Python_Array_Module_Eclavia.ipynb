{
  "nbformat": 4,
  "nbformat_minor": 0,
  "metadata": {
    "colab": {
      "provenance": [],
      "authorship_tag": "ABX9TyPjmPaLDUzmydSHJeTS6S4S",
      "include_colab_link": true
    },
    "kernelspec": {
      "name": "python3",
      "display_name": "Python 3"
    },
    "language_info": {
      "name": "python"
    }
  },
  "cells": [
    {
      "cell_type": "markdown",
      "metadata": {
        "id": "view-in-github",
        "colab_type": "text"
      },
      "source": [
        "<a href=\"https://colab.research.google.com/github/JoseEclavia/DSA-58011/blob/main/Python_Array_Module_Eclavia.ipynb\" target=\"_parent\"><img src=\"https://colab.research.google.com/assets/colab-badge.svg\" alt=\"Open In Colab\"/></a>"
      ]
    },
    {
      "cell_type": "markdown",
      "source": [
        "Example 1"
      ],
      "metadata": {
        "id": "mXrMB_mndXPC"
      }
    },
    {
      "cell_type": "code",
      "source": [
        "import array\n",
        "array.typecodes #type a label to use all the codes\n",
        "\n",
        "a = array.array('i',[1,2,3,4,5,6,7,8,9,10])\n",
        "b = array.array('f',[1.5,2.5,3.5,4.5,5.5,6.5,7.5,8.5,9.5,10.5])\n",
        "\n",
        "print(a.typecode)\n",
        "print(b.typecode)"
      ],
      "metadata": {
        "colab": {
          "base_uri": "https://localhost:8080/"
        },
        "id": "UqOjshL4daf9",
        "outputId": "5024095d-4358-4123-bf27-d24a466b2f67"
      },
      "execution_count": 1,
      "outputs": [
        {
          "output_type": "stream",
          "name": "stdout",
          "text": [
            "i\n",
            "f\n"
          ]
        }
      ]
    },
    {
      "cell_type": "markdown",
      "source": [
        "Example 2"
      ],
      "metadata": {
        "id": "gi6KBbbbddVA"
      }
    },
    {
      "cell_type": "code",
      "source": [
        "a = array.array('f',[1,2,3,4,5,6,7,8,9,10])\n",
        "print(a)"
      ],
      "metadata": {
        "colab": {
          "base_uri": "https://localhost:8080/"
        },
        "id": "hGC6uvSHdflp",
        "outputId": "463a0d06-1ae6-4270-ee61-47e89202d9b9"
      },
      "execution_count": 3,
      "outputs": [
        {
          "output_type": "stream",
          "name": "stdout",
          "text": [
            "array('f', [1.0, 2.0, 3.0, 4.0, 5.0, 6.0, 7.0, 8.0, 9.0, 10.0])\n"
          ]
        }
      ]
    },
    {
      "cell_type": "markdown",
      "source": [
        "Insert an element: 11 to the first index of the array a"
      ],
      "metadata": {
        "id": "il1bHSesdjfp"
      }
    },
    {
      "cell_type": "code",
      "source": [
        "a.insert(0,11)\n",
        "print(a)\n",
        "\n",
        "b.insert(-1,11)\n",
        "print(b)"
      ],
      "metadata": {
        "colab": {
          "base_uri": "https://localhost:8080/"
        },
        "id": "vP_yaQfJdlPY",
        "outputId": "4a3776c5-82d6-4580-d6dc-21e4170370a6"
      },
      "execution_count": 2,
      "outputs": [
        {
          "output_type": "stream",
          "name": "stdout",
          "text": [
            "array('i', [11, 1, 2, 3, 4, 5, 6, 7, 8, 9, 10])\n",
            "array('f', [1.5, 2.5, 3.5, 4.5, 5.5, 6.5, 7.5, 8.5, 9.5, 11.0, 10.5])\n"
          ]
        }
      ]
    },
    {
      "cell_type": "code",
      "source": [
        "a = array.array('i',[1,2,3,4,5,6,7,8,9,10])\n",
        "print(a)\n",
        "a.insert(10,-1)\n",
        "print(a)"
      ],
      "metadata": {
        "colab": {
          "base_uri": "https://localhost:8080/"
        },
        "id": "dN70KJtXd1Qr",
        "outputId": "ddb1d81d-5821-4be8-b08b-c829ce4949b3"
      },
      "execution_count": 4,
      "outputs": [
        {
          "output_type": "stream",
          "name": "stdout",
          "text": [
            "array('i', [1, 2, 3, 4, 5, 6, 7, 8, 9, 10])\n",
            "array('i', [1, 2, 3, 4, 5, 6, 7, 8, 9, 10, -1])\n"
          ]
        }
      ]
    },
    {
      "cell_type": "markdown",
      "source": [
        "Nodes"
      ],
      "metadata": {
        "id": "eUWRYGb-d6Ez"
      }
    },
    {
      "cell_type": "code",
      "source": [
        "#initialize the node class\n",
        "class Node:\n",
        "\n",
        "  def __init__(self,data):\n",
        "    self.data=data      #initialize object node\n",
        "    self.next=None      #initialize as null\n",
        "\n",
        "class LinkedList:\n",
        "  def __init__(self):\n",
        "    self.head = None    #initialize the head of the node\n",
        "  def printlist(self):\n",
        "    temp=self.head\n",
        "    while(temp):\n",
        "      print(temp.data)\n",
        "      temp=temp.next\n",
        "\n",
        "   \n",
        "#empty list\n",
        "\n",
        "llist = LinkedList()\n",
        "llist.head = Node(1)\n",
        "second = Node(2)\n",
        "third= Node(3)\n",
        "\n",
        "llist.head.next = second\n",
        "second.next = third\n",
        "\n",
        "\n",
        "llist.printlist()"
      ],
      "metadata": {
        "colab": {
          "base_uri": "https://localhost:8080/"
        },
        "id": "WZU8FT2Xd9eV",
        "outputId": "b1f006af-1fd9-48db-af4a-0d9b402d8c13"
      },
      "execution_count": 5,
      "outputs": [
        {
          "output_type": "stream",
          "name": "stdout",
          "text": [
            "1\n",
            "2\n",
            "3\n"
          ]
        }
      ]
    }
  ]
}