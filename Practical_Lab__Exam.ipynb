{
  "nbformat": 4,
  "nbformat_minor": 0,
  "metadata": {
    "colab": {
      "name": "Practical_Lab_ Exam.ipynb",
      "provenance": [],
      "authorship_tag": "ABX9TyNmJw4pmv4Z3C1NR7HqxQYK",
      "include_colab_link": true
    },
    "kernelspec": {
      "name": "python3",
      "display_name": "Python 3"
    },
    "language_info": {
      "name": "python"
    }
  },
  "cells": [
    {
      "cell_type": "markdown",
      "metadata": {
        "id": "view-in-github",
        "colab_type": "text"
      },
      "source": [
        "<a href=\"https://colab.research.google.com/github/JoseEclavia/DSA-58011/blob/main/Practical_Lab__Exam.ipynb\" target=\"_parent\"><img src=\"https://colab.research.google.com/assets/colab-badge.svg\" alt=\"Open In Colab\"/></a>"
      ]
    },
    {
      "cell_type": "code",
      "execution_count": 2,
      "metadata": {
        "colab": {
          "base_uri": "https://localhost:8080/"
        },
        "id": "B_SKCm8LnvnU",
        "outputId": "80d034b6-15c2-424e-9fe1-66bf6f54f1ce"
      },
      "outputs": [
        {
          "output_type": "stream",
          "name": "stdout",
          "text": [
            "Odd Numbers are:  [49, 87, 75]\n",
            "The Sum is:  211\n"
          ]
        }
      ],
      "source": [
        "list1 = [26,49,98,87,62,75]\n",
        "\n",
        "only_odd = [num for num in list1 if num % 2 == 1]\n",
        "res = sum(only_odd)\n",
        "\n",
        "print(\"Odd Numbers are: \",only_odd)\n",
        "print(\"The Sum is: \", res)"
      ]
    }
  ]
}