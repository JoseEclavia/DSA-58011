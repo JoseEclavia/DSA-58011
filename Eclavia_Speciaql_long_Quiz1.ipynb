{
  "nbformat": 4,
  "nbformat_minor": 0,
  "metadata": {
    "colab": {
      "provenance": [],
      "collapsed_sections": [],
      "authorship_tag": "ABX9TyPtmiWz2jsHkkP016siiKAl",
      "include_colab_link": true
    },
    "kernelspec": {
      "name": "python3",
      "display_name": "Python 3"
    },
    "language_info": {
      "name": "python"
    }
  },
  "cells": [
    {
      "cell_type": "markdown",
      "metadata": {
        "id": "view-in-github",
        "colab_type": "text"
      },
      "source": [
        "<a href=\"https://colab.research.google.com/github/JoseEclavia/DSA-58011/blob/main/Eclavia_Speciaql_long_Quiz1.ipynb\" target=\"_parent\"><img src=\"https://colab.research.google.com/assets/colab-badge.svg\" alt=\"Open In Colab\"/></a>"
      ]
    },
    {
      "cell_type": "markdown",
      "source": [
        "1) Choose Array or Linked-List data structure\n",
        "\n",
        "2) Create a python program that inserts each character of your full name\n",
        "\n",
        "and displays your full name in reverse order (in Colab)\n",
        "\n",
        "3) Save your program as \"Long Quiz 1\" to your GitHub"
      ],
      "metadata": {
        "id": "wrGp7XihTjgl"
      }
    },
    {
      "cell_type": "code",
      "source": [
        "arr = [\"Jose\", \"Rubender\",\"Eclavia\"]\n",
        "print(\"Full name :\",arr)\n",
        " \n",
        "res = arr[::-1] \n",
        "print(\"Reversed Full Name:\",res)"
      ],
      "metadata": {
        "colab": {
          "base_uri": "https://localhost:8080/"
        },
        "id": "YKsHjfT3TjyW",
        "outputId": "16536245-0256-4076-90d6-297ac3c5afbe"
      },
      "execution_count": 3,
      "outputs": [
        {
          "output_type": "stream",
          "name": "stdout",
          "text": [
            "Full name : ['Jose', 'Rubender', 'Eclavia']\n",
            "Reversed Full Name: ['Eclavia', 'Rubender', 'Jose']\n"
          ]
        }
      ]
    }
  ]
}